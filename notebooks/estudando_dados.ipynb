{
 "cells": [
  {
   "cell_type": "markdown",
   "metadata": {},
   "source": [
    "## Importando bibliotecas python"
   ]
  },
  {
   "cell_type": "code",
   "execution_count": 49,
   "metadata": {},
   "outputs": [],
   "source": [
    "import pandas as pd\n",
    "from sklearn.model_selection import train_test_split \n",
    "from sklearn.linear_model import LinearRegression\n",
    "from sklearn.metrics import mean_absolute_error, mean_squared_error, r2_score\n",
    "from xgboost import XGBRFRegressor\n",
    "\n",
    "import mlflow\n",
    "from mlflow.models.signature import infer_signature"
   ]
  },
  {
   "cell_type": "markdown",
   "metadata": {},
   "source": [
    "## Lendo os dados"
   ]
  },
  {
   "cell_type": "code",
   "execution_count": 35,
   "metadata": {},
   "outputs": [
    {
     "data": {
      "text/html": [
       "<div>\n",
       "<style scoped>\n",
       "    .dataframe tbody tr th:only-of-type {\n",
       "        vertical-align: middle;\n",
       "    }\n",
       "\n",
       "    .dataframe tbody tr th {\n",
       "        vertical-align: top;\n",
       "    }\n",
       "\n",
       "    .dataframe thead th {\n",
       "        text-align: right;\n",
       "    }\n",
       "</style>\n",
       "<table border=\"1\" class=\"dataframe\">\n",
       "  <thead>\n",
       "    <tr style=\"text-align: right;\">\n",
       "      <th></th>\n",
       "      <th>tamanho</th>\n",
       "      <th>ano</th>\n",
       "      <th>garagem</th>\n",
       "      <th>preco</th>\n",
       "    </tr>\n",
       "  </thead>\n",
       "  <tbody>\n",
       "    <tr>\n",
       "      <th>0</th>\n",
       "      <td>159.0</td>\n",
       "      <td>2003</td>\n",
       "      <td>2</td>\n",
       "      <td>208500</td>\n",
       "    </tr>\n",
       "    <tr>\n",
       "      <th>1</th>\n",
       "      <td>117.0</td>\n",
       "      <td>1976</td>\n",
       "      <td>2</td>\n",
       "      <td>181500</td>\n",
       "    </tr>\n",
       "    <tr>\n",
       "      <th>2</th>\n",
       "      <td>166.0</td>\n",
       "      <td>2001</td>\n",
       "      <td>2</td>\n",
       "      <td>223500</td>\n",
       "    </tr>\n",
       "    <tr>\n",
       "      <th>3</th>\n",
       "      <td>160.0</td>\n",
       "      <td>1915</td>\n",
       "      <td>3</td>\n",
       "      <td>140000</td>\n",
       "    </tr>\n",
       "    <tr>\n",
       "      <th>4</th>\n",
       "      <td>204.0</td>\n",
       "      <td>2000</td>\n",
       "      <td>3</td>\n",
       "      <td>250000</td>\n",
       "    </tr>\n",
       "  </tbody>\n",
       "</table>\n",
       "</div>"
      ],
      "text/plain": [
       "   tamanho   ano  garagem   preco\n",
       "0    159.0  2003        2  208500\n",
       "1    117.0  1976        2  181500\n",
       "2    166.0  2001        2  223500\n",
       "3    160.0  1915        3  140000\n",
       "4    204.0  2000        3  250000"
      ]
     },
     "execution_count": 35,
     "metadata": {},
     "output_type": "execute_result"
    }
   ],
   "source": [
    "csv_path = \"../data/processed/casas.csv\"\n",
    "\n",
    "df = pd.read_csv(csv_path)\n",
    "df.head()"
   ]
  },
  {
   "cell_type": "markdown",
   "metadata": {},
   "source": []
  },
  {
   "cell_type": "code",
   "execution_count": 40,
   "metadata": {},
   "outputs": [
    {
     "name": "stdout",
     "output_type": "stream",
     "text": [
      "O shape dos dados inicialmente: \n",
      " - X: (1460, 3) \n",
      " - y: (1460,)\n",
      "\n",
      "\n",
      "O shape dos dados de treino: \n",
      " - X: (1168, 3) \n",
      " - y: (1168,)\n",
      "\n",
      "\n",
      "O shape dos dados de teste : \n",
      " - X: (292, 3) \n",
      " - y: (292,)\n"
     ]
    }
   ],
   "source": [
    "X = df.drop(columns=\"preco\")\n",
    "y = df.preco\n",
    "\n",
    "print(f\"O shape dos dados inicialmente: \\n - X: {X.shape} \\n - y: {y.shape}\")\n",
    "print(\"\\n\")\n",
    "\n",
    "X_train, X_test, y_train, y_test = train_test_split(X,y, test_size=.2)\n",
    "print(f\"O shape dos dados de treino: \\n - X: {X_train.shape} \\n - y: {y_train.shape}\")\n",
    "print(\"\\n\")\n",
    "print(f\"O shape dos dados de teste : \\n - X: {X_test.shape} \\n - y: {y_test.shape}\")"
   ]
  },
  {
   "cell_type": "markdown",
   "metadata": {},
   "source": [
    "## Aplicando Modelo de Linear Regression\n",
    "\n",
    "O objetivo aqui será criar um modelo simples para termos um base line."
   ]
  },
  {
   "cell_type": "code",
   "execution_count": 41,
   "metadata": {},
   "outputs": [
    {
     "data": {
      "text/plain": [
       "<Experiment: artifact_location='file:///home/carlos/Documentos/programas/Alura_/CD4ML/mlflow/notebooks/mlruns/767021303406655053', creation_time=1746796522623, experiment_id='767021303406655053', last_update_time=1746796522623, lifecycle_stage='active', name='preco-casas-eda', tags={}>"
      ]
     },
     "execution_count": 41,
     "metadata": {},
     "output_type": "execute_result"
    }
   ],
   "source": [
    "mlflow.set_experiment(\"preco-casas-eda\")"
   ]
  },
  {
   "cell_type": "markdown",
   "metadata": {},
   "source": [
    "#### Definindo uma funcao para calcular as metricas de avaliacao do modelo"
   ]
  },
  {
   "cell_type": "code",
   "execution_count": 42,
   "metadata": {},
   "outputs": [],
   "source": [
    "def metricas_regressao(y_true,y_pred):\n",
    "    \"\"\"retorna e printa as metricas de avaliacao para um modelo de regressao\n",
    "\n",
    "    Args:\n",
    "        y_true: Valores reais de y\n",
    "        y_pred: Valores preditos de y\n",
    "\n",
    "    Returns:\n",
    "        mae, mse, rmse, r_2: mean_absolute_error, mean_squared_error, root_mean_squared_error, r2_score\n",
    "    \"\"\"\n",
    "    mae = mean_absolute_error(y_true,y_pred)\n",
    "    mse = mean_squared_error(y_true,y_pred)\n",
    "    rmse = (mse)**(1/2)\n",
    "    r_2 = r2_score(y_true,y_pred)\n",
    "    \n",
    "    print(f\"Erro Medio Absoluto: {mae:.3f}\")\n",
    "    print(f\"Erro Quadratico Medio: {mse:.3f}\")\n",
    "    print(f\"Raiz do Erro Quadratico Medio: {rmse:.3f}\")\n",
    "    print(f\"R quadrado: {r_2:.3f}\")\n",
    "    return mae, mse, rmse, r_2"
   ]
  },
  {
   "cell_type": "code",
   "execution_count": 43,
   "metadata": {},
   "outputs": [
    {
     "name": "stderr",
     "output_type": "stream",
     "text": [
      "/home/carlos/anaconda3/envs/tensorflow-gpu/lib/python3.9/site-packages/mlflow/types/utils.py:452: UserWarning: Hint: Inferred schema contains integer column(s). Integer columns in Python cannot represent missing values. If your input data contains missing values at inference time, it will be encoded as floats and will cause a schema enforcement error. The best way to avoid this problem is to infer the model schema based on a realistic data sample (training dataset) that includes missing values. Alternatively, you can declare integer columns as doubles (float64) whenever these columns may have missing values. See `Handling Integers With Missing Values <https://www.mlflow.org/docs/latest/models.html#handling-integers-with-missing-values>`_ for more details.\n",
      "  warnings.warn(\n"
     ]
    },
    {
     "name": "stdout",
     "output_type": "stream",
     "text": [
      "Erro Medio Absoluto: 30303.704\n",
      "Erro Quadratico Medio: 1791302335.476\n",
      "Raiz do Erro Quadratico Medio: 42323.780\n",
      "R quadrado: 0.680\n"
     ]
    }
   ],
   "source": [
    "import mlflow.sklearn\n",
    "\n",
    "\n",
    "with mlflow.start_run():\n",
    "    lin_reg = LinearRegression()\n",
    "    lin_reg.fit(X_train, y_train)\n",
    "    y_pred = lin_reg.predict(X_test)\n",
    "    \n",
    "    sig_pred = lin_reg.predict(X_train[:5])\n",
    "    signature = infer_signature(X_train[:5], sig_pred)\n",
    "    \n",
    "    mlflow.sklearn.log_model(lin_reg, \n",
    "                             'lin_reg',\n",
    "                             signature=signature,\n",
    "                             input_example=X_train[:5])\n",
    "    \n",
    "    mae, mse, rmse, r_2 = metricas_regressao(y_test,y_pred)\n",
    "    mlflow.log_metric('mae',mae)\n",
    "    mlflow.log_metric('mse',mse)\n",
    "    mlflow.log_metric('rmse',rmse)\n",
    "    mlflow.log_metric('r_2',r_2)\n",
    "    \n"
   ]
  },
  {
   "cell_type": "markdown",
   "metadata": {},
   "source": [
    "#### Aplicando o XGBoost"
   ]
  },
  {
   "cell_type": "code",
   "execution_count": 44,
   "metadata": {},
   "outputs": [
    {
     "name": "stderr",
     "output_type": "stream",
     "text": [
      "/home/carlos/anaconda3/envs/tensorflow-gpu/lib/python3.9/site-packages/mlflow/types/utils.py:452: UserWarning: Hint: Inferred schema contains integer column(s). Integer columns in Python cannot represent missing values. If your input data contains missing values at inference time, it will be encoded as floats and will cause a schema enforcement error. The best way to avoid this problem is to infer the model schema based on a realistic data sample (training dataset) that includes missing values. Alternatively, you can declare integer columns as doubles (float64) whenever these columns may have missing values. See `Handling Integers With Missing Values <https://www.mlflow.org/docs/latest/models.html#handling-integers-with-missing-values>`_ for more details.\n",
      "  warnings.warn(\n",
      "/home/carlos/anaconda3/envs/tensorflow-gpu/lib/python3.9/site-packages/xgboost/core.py:158: UserWarning: [12:05:07] WARNING: /workspace/src/c_api/c_api.cc:1374: Saving model in the UBJSON format as default.  You can use file extension: `json`, `ubj` or `deprecated` to choose between formats.\n",
      "  warnings.warn(smsg, UserWarning)\n"
     ]
    },
    {
     "name": "stdout",
     "output_type": "stream",
     "text": [
      "Erro Medio Absoluto: 47098.590\n",
      "Erro Quadratico Medio: 4046461952.000\n",
      "Raiz do Erro Quadratico Medio: 63611.807\n",
      "R quadrado: 0.276\n"
     ]
    }
   ],
   "source": [
    "xgb_params = {\n",
    "    \"learning_rate\":0.2,\n",
    "    \"n_estimators\": 150,\n",
    "    \"random_state\": 42\n",
    "}\n",
    "\n",
    "with mlflow.start_run():    \n",
    "    xgb = XGBRFRegressor(**xgb_params)\n",
    "    xgb.fit(X_train, y_train)\n",
    "    xgb_pred = xgb.predict(X_test)\n",
    "    \n",
    "    sig_pred = xgb.predict(X_train[:5])\n",
    "    signature = infer_signature(X_train[:5],sig_pred)\n",
    "    \n",
    "    mlflow.xgboost.log_model(xgb,\n",
    "                             'xgboost',\n",
    "                             signature=signature,\n",
    "                             input_example=X_train[:5])\n",
    "    \n",
    "    mae, mse, rmse, r_2 = metricas_regressao(y_test, xgb_pred)\n",
    "    mlflow.log_metric('mae',mae)\n",
    "    mlflow.log_metric('mse',mse)\n",
    "    mlflow.log_metric('rmse',rmse)\n",
    "    mlflow.log_metric('r_2',r_2)\n",
    "    "
   ]
  },
  {
   "cell_type": "code",
   "execution_count": 48,
   "metadata": {},
   "outputs": [
    {
     "data": {
      "text/plain": [
       "pandas.core.frame.DataFrame"
      ]
     },
     "execution_count": 48,
     "metadata": {},
     "output_type": "execute_result"
    }
   ],
   "source": [
    "type(X_train)"
   ]
  },
  {
   "cell_type": "code",
   "execution_count": 23,
   "metadata": {},
   "outputs": [],
   "source": [
    "xgb_pred = xgb.predict(X_test)"
   ]
  },
  {
   "cell_type": "code",
   "execution_count": 24,
   "metadata": {},
   "outputs": [
    {
     "name": "stdout",
     "output_type": "stream",
     "text": [
      "Erro Medio Absoluto: 27754.246\n",
      "Erro Quadratico Medio: 1738928128.000\n",
      "Raiz do Erro Quadratico Medio: 41700.457\n",
      "R quadrado: 0.760\n"
     ]
    },
    {
     "data": {
      "text/plain": [
       "(27754.24609375, 1738928128.0, 41700.45716775776, 0.759798526763916)"
      ]
     },
     "execution_count": 24,
     "metadata": {},
     "output_type": "execute_result"
    }
   ],
   "source": [
    "metricas_regressao(y_test,xgb_pred)"
   ]
  },
  {
   "cell_type": "markdown",
   "metadata": {},
   "source": [
    "### Mlflow tracking\n",
    "\n",
    "Obeservando alguns dos modelos que foram treinados"
   ]
  },
  {
   "cell_type": "code",
   "execution_count": 23,
   "metadata": {},
   "outputs": [],
   "source": [
    "experiment = mlflow.get_experiment_by_name('preco-casas-eda')\n",
    "\n",
    "runs = mlflow.search_runs(experiment_ids=experiment.experiment_id)"
   ]
  },
  {
   "cell_type": "code",
   "execution_count": 26,
   "metadata": {},
   "outputs": [],
   "source": [
    "top_models = runs.sort_values(by='metrics.rmse', ascending=True).head()"
   ]
  },
  {
   "cell_type": "code",
   "execution_count": 33,
   "metadata": {},
   "outputs": [
    {
     "data": {
      "text/plain": [
       "<Run: data=<RunData: metrics={'mae': 25877.19921875,\n",
       " 'mse': 1436647296.0,\n",
       " 'r_2': 0.7861969470977783,\n",
       " 'rmse': 37903.130424807925}, params={}, tags={'mlflow.log-model.history': '[{\"run_id\": \"be81a7483717428498b651672e4a0d55\", '\n",
       "                             '\"artifact_path\": \"xgboost\", \"utc_time_created\": '\n",
       "                             '\"2025-05-09 13:46:35.713058\", \"model_uuid\": '\n",
       "                             '\"192b9d736fca4e84ad5dd6a4218309b2\", \"flavors\": '\n",
       "                             '{\"python_function\": {\"loader_module\": '\n",
       "                             '\"mlflow.xgboost\", \"python_version\": \"3.9.21\", '\n",
       "                             '\"data\": \"model.xgb\", \"env\": {\"conda\": '\n",
       "                             '\"conda.yaml\", \"virtualenv\": \"python_env.yaml\"}}, '\n",
       "                             '\"xgboost\": {\"xgb_version\": \"2.1.4\", \"data\": '\n",
       "                             '\"model.xgb\", \"model_class\": '\n",
       "                             '\"xgboost.sklearn.XGBRFRegressor\", '\n",
       "                             '\"model_format\": \"xgb\", \"code\": null}}}]',\n",
       " 'mlflow.runName': 'rumbling-swan-727',\n",
       " 'mlflow.source.name': '/home/carlos/anaconda3/envs/tensorflow-gpu/lib/python3.9/site-packages/ipykernel_launcher.py',\n",
       " 'mlflow.source.type': 'LOCAL',\n",
       " 'mlflow.user': 'carlos'}>, info=<RunInfo: artifact_uri='file:///home/carlos/Documentos/programas/Alura_/CD4ML/mlflow/notebooks/mlruns/767021303406655053/be81a7483717428498b651672e4a0d55/artifacts', end_time=1746798397878, experiment_id='767021303406655053', lifecycle_stage='active', run_id='be81a7483717428498b651672e4a0d55', run_name='rumbling-swan-727', run_uuid='be81a7483717428498b651672e4a0d55', start_time=1746798395572, status='FINISHED', user_id='carlos'>, inputs=<RunInputs: dataset_inputs=[]>>"
      ]
     },
     "execution_count": 33,
     "metadata": {},
     "output_type": "execute_result"
    }
   ],
   "source": [
    "mlflow.get_run(top_models.run_id.values[0])"
   ]
  },
  {
   "cell_type": "code",
   "execution_count": null,
   "metadata": {},
   "outputs": [],
   "source": []
  }
 ],
 "metadata": {
  "kernelspec": {
   "display_name": "tensorflow-gpu",
   "language": "python",
   "name": "python3"
  },
  "language_info": {
   "codemirror_mode": {
    "name": "ipython",
    "version": 3
   },
   "file_extension": ".py",
   "mimetype": "text/x-python",
   "name": "python",
   "nbconvert_exporter": "python",
   "pygments_lexer": "ipython3",
   "version": "3.9.21"
  }
 },
 "nbformat": 4,
 "nbformat_minor": 2
}
